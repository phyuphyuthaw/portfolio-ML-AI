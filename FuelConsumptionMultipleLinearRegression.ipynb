{
  "nbformat": 4,
  "nbformat_minor": 0,
  "metadata": {
    "colab": {
      "provenance": [],
      "gpuType": "T4",
      "authorship_tag": "ABX9TyOUFnVv2MPVj/UuLCmpSEzf",
      "include_colab_link": true
    },
    "kernelspec": {
      "name": "python3",
      "display_name": "Python 3"
    },
    "language_info": {
      "name": "python"
    },
    "accelerator": "GPU"
  },
  "cells": [
    {
      "cell_type": "markdown",
      "metadata": {
        "id": "view-in-github",
        "colab_type": "text"
      },
      "source": [
        "<a href=\"https://colab.research.google.com/github/phyuphyuthaw/portfolio-ML-AI/blob/main/FuelConsumptionMultipleLinearRegression.ipynb\" target=\"_parent\"><img src=\"https://colab.research.google.com/assets/colab-badge.svg\" alt=\"Open In Colab\"/></a>"
      ]
    },
    {
      "cell_type": "markdown",
      "source": [
        "# Multiple Linear Regression\n",
        "\n",
        "\n",
        "Estimated time needed: **15** minutes\n",
        "    \n",
        "\n",
        "## Objectives\n",
        "\n",
        "After completing this lab you will be able to:\n",
        "\n",
        "* Use scikit-learn to implement Multiple Linear Regression\n",
        "* Create a model, train it, test it and use the model\n"
      ],
      "metadata": {
        "id": "sMW9CL1P8_hO"
      }
    },
    {
      "cell_type": "code",
      "execution_count": null,
      "metadata": {
        "colab": {
          "base_uri": "https://localhost:8080/"
        },
        "id": "Ub9jw-ti8rvQ",
        "outputId": "4ef31cfe-36e6-438b-9bdb-991a0b2d916a"
      },
      "outputs": [
        {
          "output_type": "stream",
          "name": "stdout",
          "text": [
            "Mounted at /content/drive\n"
          ]
        }
      ],
      "source": [
        "#link to google drive to load dataset\n",
        "from google.colab import drive\n",
        "drive.mount('/content/drive')"
      ]
    },
    {
      "cell_type": "code",
      "source": [
        "#Import packages\n",
        "import matplotlib.pyplot as plt\n",
        "import pandas as pd\n",
        "import pylab as pl\n",
        "import numpy as np"
      ],
      "metadata": {
        "id": "LtJf0YaI9Yjl"
      },
      "execution_count": null,
      "outputs": []
    },
    {
      "cell_type": "code",
      "source": [
        "#Import csv\n",
        "file_path = '/content/drive/MyDrive/Colab Notebooks/data/FuelConsumption.csv'"
      ],
      "metadata": {
        "id": "zvQm1_p29euw"
      },
      "execution_count": null,
      "outputs": []
    },
    {
      "cell_type": "code",
      "source": [
        "#Read the data\n",
        "df = pd.read_csv(file_path)"
      ],
      "metadata": {
        "id": "m8Gx41dp94zO"
      },
      "execution_count": null,
      "outputs": []
    },
    {
      "cell_type": "code",
      "source": [
        "#Creating training and testing dataset\n",
        "#split the dataset into 80% train data and 20% test data\n",
        "\n",
        "X = df[['ENGINESIZE','CYLINDERS','FUELCONSUMPTION_COMB']].values\n",
        "y = df['CO2EMISSIONS'].values\n",
        "\n",
        "from sklearn.model_selection import train_test_split\n",
        "X_train, X_test, y_train, y_test = train_test_split(X,y,\n",
        "                                                    test_size=0.2,\n",
        "                                                    random_state=1)"
      ],
      "metadata": {
        "id": "H1qGjI629mhK"
      },
      "execution_count": null,
      "outputs": []
    },
    {
      "cell_type": "code",
      "source": [
        "#Implementing the model\n",
        "from sklearn.linear_model import LinearRegression\n",
        "model = LinearRegression()\n",
        "model.fit(X_train, y_train)\n",
        "\n",
        "#Checking the coefficients\n",
        "print('Coefficients: ',model.coef_)\n",
        "print('Intercept: ',model.intercept_)"
      ],
      "metadata": {
        "colab": {
          "base_uri": "https://localhost:8080/"
        },
        "id": "RnsdmfRJ-K4p",
        "outputId": "0efd64b4-4e8b-45ba-9098-3cda722ff179"
      },
      "execution_count": null,
      "outputs": [
        {
          "output_type": "stream",
          "name": "stdout",
          "text": [
            "Coefficients:  [11.56295409  6.91231122  9.72527271]\n",
            "Intercept:  65.17950048137249\n"
          ]
        }
      ]
    },
    {
      "cell_type": "code",
      "source": [
        "#Evaluate the model with test dataset\n",
        "from sklearn.metrics import mean_absolute_error\n",
        "from sklearn.metrics import mean_squared_error\n",
        "from sklearn.metrics import r2_score\n",
        "\n",
        "y_pred = model.predict(X_test)\n",
        "mae = mean_absolute_error(y_test, y_pred)\n",
        "mse = mean_squared_error(y_test, y_pred, squared = True)\n",
        "r2 = r2_score(y_test, y_pred)\n",
        "print(\"Mean absolute error: %.2f\" %mae)\n",
        "print(\"Mean squared error: %.2f\" %mse)\n",
        "print(\"R2-score: %.2f\" %r2)"
      ],
      "metadata": {
        "colab": {
          "base_uri": "https://localhost:8080/"
        },
        "id": "4rj11uH8_Z8d",
        "outputId": "69ff3993-316a-4c84-cd5e-bf0e1ff65250"
      },
      "execution_count": null,
      "outputs": [
        {
          "output_type": "stream",
          "name": "stdout",
          "text": [
            "Mean absolute error: 16.65\n",
            "Mean squared error: 546.26\n",
            "R2-score: 0.87\n"
          ]
        }
      ]
    },
    {
      "cell_type": "code",
      "source": [
        "#Using FUELCONSUMPTION_CITY and FUELCONSUMPTION_HWY\n",
        "\n",
        "#split the dataset into 80% train data and 20% test data\n",
        "X = df[['FUELCONSUMPTION_CITY','FUELCONSUMPTION_HWY']].values\n",
        "y = df['CO2EMISSIONS'].values\n",
        "\n",
        "from sklearn.model_selection import train_test_split\n",
        "X_train, X_test, y_train, y_test = train_test_split(X,y,\n",
        "                                                    test_size=0.2,\n",
        "                                                    random_state=1)\n",
        "\n",
        "#Implementing the model\n",
        "from sklearn.linear_model import LinearRegression\n",
        "model = LinearRegression()\n",
        "model.fit(X_train, y_train)\n",
        "\n",
        "#Checking the coefficients\n",
        "print('Coefficients: ',model.coef_)\n",
        "print('Intercept: ',model.intercept_)"
      ],
      "metadata": {
        "colab": {
          "base_uri": "https://localhost:8080/"
        },
        "id": "tWlch55h_pbY",
        "outputId": "4a292e1a-b27f-4788-a652-7311034f4cf3"
      },
      "execution_count": null,
      "outputs": [
        {
          "output_type": "stream",
          "name": "stdout",
          "text": [
            "Coefficients:  [15.58793849 -2.39898211]\n",
            "Intercept:  71.9979583027062\n"
          ]
        }
      ]
    },
    {
      "cell_type": "code",
      "source": [
        "#Evaluate the model with test dataset\n",
        "from sklearn.metrics import mean_absolute_error\n",
        "from sklearn.metrics import mean_squared_error\n",
        "from sklearn.metrics import r2_score\n",
        "\n",
        "y_pred = model.predict(X_test)\n",
        "mae = mean_absolute_error(y_test, y_pred)\n",
        "mse = mean_squared_error(y_test, y_pred, squared = True)\n",
        "r2 = r2_score(y_test, y_pred)\n",
        "print(\"Mean absolute error: %.2f\" %mae)\n",
        "print(\"Mean squared error: %.2f\" %mse)\n",
        "print(\"R2-score: %.2f\" %r2)"
      ],
      "metadata": {
        "colab": {
          "base_uri": "https://localhost:8080/"
        },
        "id": "Sk3JGhG7AFI1",
        "outputId": "02dbaa63-266f-4f75-af97-dd354e96a158"
      },
      "execution_count": null,
      "outputs": [
        {
          "output_type": "stream",
          "name": "stdout",
          "text": [
            "Mean absolute error: 19.84\n",
            "Mean squared error: 844.50\n",
            "R2-score: 0.79\n"
          ]
        }
      ]
    }
  ]
}